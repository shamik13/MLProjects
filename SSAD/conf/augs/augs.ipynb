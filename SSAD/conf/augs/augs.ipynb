{
 "metadata": {
  "language_info": {
   "codemirror_mode": {
    "name": "ipython",
    "version": 3
   },
   "file_extension": ".py",
   "mimetype": "text/x-python",
   "name": "python",
   "nbconvert_exporter": "python",
   "pygments_lexer": "ipython3",
   "version": 3
  },
  "orig_nbformat": 2,
  "kernelspec": {
   "name": "python_defaultSpec_1596866601731",
   "display_name": "Python 3.6.5 64-bit ('base': conda)"
  }
 },
 "nbformat": 4,
 "nbformat_minor": 2,
 "cells": [
  {
   "cell_type": "code",
   "execution_count": 2,
   "metadata": {},
   "outputs": [],
   "source": [
    "import albumentations as albu"
   ]
  },
  {
   "cell_type": "code",
   "execution_count": 3,
   "metadata": {},
   "outputs": [],
   "source": [
    "train_aug = albu.Compose([\n",
    "    albu.OneOf([\n",
    "        albu.HorizontalFlip(always_apply=False, p=1),\n",
    "        albu.VerticalFlip(always_apply=False, p=1)\n",
    "    ], p=0.5),    \n",
    "    albu.OneOf([\n",
    "        albu.CLAHE(always_apply=False, p=1),\n",
    "        albu.RandomGamma(always_apply=False, p=1),\n",
    "        albu.RandomBrightnessContrast(always_apply=False, p=1)\n",
    "    ], p=0.75),\n",
    "    albu.Resize(height=256, width=256, always_apply=False, p=1),\n",
    "    albu.Normalize(always_apply=False, p=1)\n",
    "])\n",
    "\n",
    "albu.save(train_aug, \"train_semseg.yaml\", data_format=\"yaml\")"
   ]
  },
  {
   "cell_type": "code",
   "execution_count": 13,
   "metadata": {},
   "outputs": [],
   "source": [
    "test_aug = albu.Compose([\n",
    "    albu.CLAHE(always_apply=False, p=1),\n",
    "    albu.Resize(height=256, width=256, always_apply=False, p=1),\n",
    "    albu.Normalize(always_apply=False, p=1)\n",
    "])\n",
    "\n",
    "albu.save(test_aug, \"train_classifier.yaml\", data_format=\"yaml\")\n",
    "albu.save(test_aug, \"test.yaml\", data_format=\"yaml\")"
   ]
  },
  {
   "cell_type": "code",
   "execution_count": null,
   "metadata": {},
   "outputs": [],
   "source": []
  }
 ]
}